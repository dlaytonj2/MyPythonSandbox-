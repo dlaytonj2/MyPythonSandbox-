{
 "cells": [
  {
   "cell_type": "code",
   "execution_count": 1,
   "id": "8601e092",
   "metadata": {},
   "outputs": [
    {
     "name": "stdout",
     "output_type": "stream",
     "text": [
      "Widgets R Us had the highest total sales: $90.00\n"
     ]
    }
   ],
   "source": [
    "data = [\n",
    "    {\n",
    "        \"ORDERNUMBER\": \"12001\",\n",
    "        \"CUSTOMERNAME\": \"Ideal Hardware\",\n",
    "        \"PRODUCTNAME\": \"Wrench\",\n",
    "        \"QTYORDERED\": 10,\n",
    "        \"ITEMPRICE\": 1.00,\n",
    "        \"DATEOFORDER\": \"02/02/2021\",\n",
    "    },\n",
    "    {\n",
    "        \"ORDERNUMBER\": \"12002\",\n",
    "        \"CUSTOMERNAME\": \"Acme\",\n",
    "        \"PRODUCTNAME\": \"Screwdriver\",\n",
    "        \"QTYORDERED\": 25,\n",
    "        \"ITEMPRICE\": 2.00,\n",
    "        \"DATEOFORDER\": \"11/10/2021\",\n",
    "    },\n",
    "    {\n",
    "        \"ORDERNUMBER\": \"12003\",\n",
    "        \"CUSTOMERNAME\": \"Widgets R Us\",\n",
    "        \"PRODUCTNAME\": \"Grommet\",\n",
    "        \"QTYORDERED\": 30,\n",
    "        \"ITEMPRICE\": 3.00,\n",
    "        \"DATEOFORDER\": \"04/01/2021\",\n",
    "    },\n",
    "    {\n",
    "        \"ORDERNUMBER\": \"12004\",\n",
    "        \"CUSTOMERNAME\": \"Bobs Hardware\",\n",
    "        \"PRODUCTNAME\": \"Screws\",\n",
    "        \"QTYORDERED\": 100,\n",
    "        \"ITEMPRICE\": 0.25,\n",
    "        \"DATEOFORDER\": \"02/13/2021\",\n",
    "    },\n",
    "]\n",
    "\n",
    "# Create an object to store the total sales for each customer\n",
    "sales_by_customer = {}\n",
    "\n",
    "# Iterate through the data and calculate the total sales for each customer\n",
    "for order in data:\n",
    "    customer_name = order[\"CUSTOMERNAME\"]\n",
    "    order_total = order[\"QTYORDERED\"] * order[\"ITEMPRICE\"]\n",
    "\n",
    "    if customer_name in sales_by_customer:\n",
    "        # If the customer has already been seen, add the order total to their running total\n",
    "        sales_by_customer[customer_name] += order_total\n",
    "    else:\n",
    "        # If this is the first time the customer has been seen, set their total to the order total\n",
    "        sales_by_customer[customer_name] = order_total\n",
    "\n",
    "# Find the customer with the highest total sales\n",
    "highest_sales = 0\n",
    "highest_sales_customer = \"\"\n",
    "for customer_name, total_sales in sales_by_customer.items():\n",
    "    if total_sales > highest_sales:\n",
    "        highest_sales = total_sales\n",
    "        highest_sales_customer = customer_name\n",
    "\n",
    "print(f\"{highest_sales_customer} had the highest total sales: ${highest_sales:.2f}\")"
   ]
  },
  {
   "cell_type": "code",
   "execution_count": 4,
   "id": "ec8c11c3",
   "metadata": {},
   "outputs": [
    {
     "ename": "OperationalError",
     "evalue": "near \"?\": syntax error",
     "output_type": "error",
     "traceback": [
      "\u001b[0;31m---------------------------------------------------------------------------\u001b[0m",
      "\u001b[0;31mOperationalError\u001b[0m                          Traceback (most recent call last)",
      "Cell \u001b[0;32mIn[4], line 15\u001b[0m\n\u001b[1;32m     13\u001b[0m \u001b[38;5;66;03m# Insert each row into the table\u001b[39;00m\n\u001b[1;32m     14\u001b[0m  \u001b[38;5;28;01mfor\u001b[39;00m row \u001b[38;5;129;01min\u001b[39;00m reader:\n\u001b[0;32m---> 15\u001b[0m   \u001b[43mcursor\u001b[49m\u001b[38;5;241;43m.\u001b[39;49m\u001b[43mexecute\u001b[49m\u001b[43m(\u001b[49m\u001b[38;5;124;43m\"\u001b[39;49m\u001b[38;5;124;43mINSERT INTO Customer_Orders VALUES (?, ?, ?, ?, ?, ?)\u001b[39;49m\u001b[38;5;124;43m\"\u001b[39;49m\u001b[43m,\u001b[49m\u001b[43m \u001b[49m\u001b[43mrow\u001b[49m\u001b[43m)\u001b[49m\n\u001b[1;32m     16\u001b[0m \u001b[38;5;66;03m# Commit the changes and close the connection\u001b[39;00m\n\u001b[1;32m     17\u001b[0m conn\u001b[38;5;241m.\u001b[39mcommit()\n",
      "\u001b[0;31mOperationalError\u001b[0m: near \"?\": syntax error"
     ]
    }
   ],
   "source": [
    "import csv\n",
    "import sqlite3\n",
    "# Connect to the database or create it if it doesn't exist\n",
    "conn = sqlite3.connect(\"customer_orders.db\")\n",
    "cursor = conn.cursor()\n",
    "# Create the table if it doesn't exist\n",
    "cursor.execute(\"CREATE TABLE IF NOT EXISTS Customer_Orders (order_number INTEGER, customer_name TEXT, product_name TEXT, qty_ordered INTEGER, item_price REAL, date_of_order DATE)\")\n",
    "# Read the CSV file\n",
    "with open(\"customer_orders.csv\", \"r\") as f:\n",
    " reader = csv.reader(f)\n",
    "# Skip the first row (header)\n",
    " next(reader)\n",
    "# Insert each row into the table\n",
    " for row in reader:\n",
    "  cursor.execute(\"INSERT INTO Customer_Orders VALUES (?, ?, ?, ?, ?, ?)\", row)\n",
    "# Commit the changes and close the connection\n",
    "conn.commit()\n",
    "conn.close()"
   ]
  },
  {
   "cell_type": "code",
   "execution_count": 6,
   "id": "ae94a01d",
   "metadata": {},
   "outputs": [],
   "source": [
    "import csv\n",
    "import sqlite3\n",
    "\n",
    "# Connect to the database\n",
    "conn = sqlite3.connect(\"customer_orders.db\")\n",
    "cursor = conn.cursor()\n",
    "\n",
    "# Create the table if it doesn't exist\n",
    "cursor.execute(\n",
    "    \"\"\"\n",
    "    CREATE TABLE IF NOT EXISTS Customer_Orders (\n",
    "        ORDERNUMBER INT PRIMARY KEY,\n",
    "        CUSTOMERNAME TEXT,\n",
    "        PRODUCTNAME TEXT,\n",
    "        QTYORDERED INT,\n",
    "        ITEMPRICE REAL,\n",
    "        DATEOFORDER DATE\n",
    "    )\n",
    "    \"\"\"\n",
    ")\n",
    "\n",
    "# Read the file and insert the data into the table\n",
    "with open(\"customer_orders.csv\", \"r\") as f:\n",
    "    reader = csv.reader(f)\n",
    "    next(reader)  # Skip the header row\n",
    "    for row in reader:\n",
    "        order_number, customer_name, product_name, qty_ordered, item_price, date_of_order = row\n",
    "        cursor.execute(\n",
    "            \"INSERT INTO Customer_Orders VALUES (?, ?, ?, ?, ?, ?)\",\n",
    "            (\n",
    "                order_number,\n",
    "                customer_name,\n",
    "                product_name,\n",
    "                qty_ordered,\n",
    "                item_price,\n",
    "                date_of_order,\n",
    "            ),\n",
    "        )\n",
    "\n",
    "# Commit the changes and close the connection\n",
    "conn.commit()\n",
    "conn.close()\n"
   ]
  },
  {
   "cell_type": "code",
   "execution_count": null,
   "id": "f10dc9c6",
   "metadata": {},
   "outputs": [],
   "source": []
  }
 ],
 "metadata": {
  "kernelspec": {
   "display_name": "Python 3 (ipykernel)",
   "language": "python",
   "name": "python3"
  },
  "language_info": {
   "codemirror_mode": {
    "name": "ipython",
    "version": 3
   },
   "file_extension": ".py",
   "mimetype": "text/x-python",
   "name": "python",
   "nbconvert_exporter": "python",
   "pygments_lexer": "ipython3",
   "version": "3.11.0"
  }
 },
 "nbformat": 4,
 "nbformat_minor": 5
}
